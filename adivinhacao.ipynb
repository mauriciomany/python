{
 "cells": [
  {
   "cell_type": "code",
   "execution_count": 7,
   "metadata": {},
   "outputs": [
    {
     "name": "stdout",
     "output_type": "stream",
     "text": [
      "*********************************\n",
      "Bem vindo ao jogo de Adivinhação!\n",
      "*********************************\n",
      "Você digitou:  42\n",
      "Você acertou!\n",
      "Fim do jogo\n"
     ]
    }
   ],
   "source": [
    "print(\"*********************************\")\n",
    "print(\"Bem vindo ao jogo de Adivinhação!\")\n",
    "print(\"*********************************\")\n",
    "\n",
    "numero_secreto = 42\n",
    "\n",
    "chute_str = input(\"Digite o seu número: \")\n",
    "print(\"Você digitou: \", chute_str)\n",
    "chute = int(chute_str)\n",
    "\n",
    "if (numero_secreto == chute):\n",
    "    print(\"Você acertou!\")\n",
    "else:\n",
    "    print(\"Você errou!\")\n",
    "\n",
    "print(\"Fim do jogo\")"
   ]
  }
 ],
 "metadata": {
  "kernelspec": {
   "display_name": "Python 3.10.4 64-bit",
   "language": "python",
   "name": "python3"
  },
  "language_info": {
   "codemirror_mode": {
    "name": "ipython",
    "version": 3
   },
   "file_extension": ".py",
   "mimetype": "text/x-python",
   "name": "python",
   "nbconvert_exporter": "python",
   "pygments_lexer": "ipython3",
   "version": "3.10.4"
  },
  "orig_nbformat": 4,
  "vscode": {
   "interpreter": {
    "hash": "916dbcbb3f70747c44a77c7bcd40155683ae19c65e1c03b4aa3499c5328201f1"
   }
  }
 },
 "nbformat": 4,
 "nbformat_minor": 2
}
